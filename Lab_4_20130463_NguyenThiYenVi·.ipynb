{
  "nbformat": 4,
  "nbformat_minor": 0,
  "metadata": {
    "colab": {
      "provenance": [],
      "include_colab_link": true
    },
    "kernelspec": {
      "name": "python3",
      "display_name": "Python 3"
    },
    "language_info": {
      "name": "python"
    }
  },
  "cells": [
    {
      "cell_type": "markdown",
      "metadata": {
        "id": "view-in-github",
        "colab_type": "text"
      },
      "source": [
        "<a href=\"https://colab.research.google.com/github/nguyenthiyenvi20130463/ML2023_TV201/blob/main/Lab_4_20130463_NguyenThiYenVi%C2%B7.ipynb\" target=\"_parent\"><img src=\"https://colab.research.google.com/assets/colab-badge.svg\" alt=\"Open In Colab\"/></a>"
      ]
    },
    {
      "cell_type": "markdown",
      "source": [
        "# This lab is to continous dealing with **Logistic Regression**, **kNN**, and **Decision Tree** alogirthms applied to classification tasks. \n",
        "\n",
        "*   **Deadline: 23:59, 12/03/2023**\n",
        "\n"
      ],
      "metadata": {
        "id": "LMzehe0sy5wr"
      }
    },
    {
      "cell_type": "markdown",
      "source": [
        "# Import libraries"
      ],
      "metadata": {
        "id": "H4nJmxp9zGX4"
      }
    },
    {
      "cell_type": "code",
      "execution_count": 8,
      "metadata": {
        "id": "DoVWQ8AEyc-C"
      },
      "outputs": [],
      "source": [
        "# code\n",
        "from sklearn.datasets import load_iris\n",
        "import matplotlib.pyplot as plt\n",
        "import matplotlib.pyplot as plt\n",
        "import numpy as np\n",
        "import pandas as pd\n",
        "from sklearn import datasets\n",
        "from sklearn import metrics\n",
        "from sklearn.neighbors import KNeighborsClassifier"
      ]
    },
    {
      "cell_type": "markdown",
      "source": [
        "#Task 1. \n",
        "Apply **LogisticRegression** to iris dataset which aims at classifying species of iris based on sepal_length (chiều dài đài hoa), sepal_width, petal_length (chiều dài cánh hoa), petal_width. The species are '**setosa**' '**versicolor**' and '**virginica**'. \n",
        "\n",
        "\n",
        "\n",
        "```\n",
        "from sklearn import datasets\n",
        "data4 = datasets.load_iris()\n",
        "```\n",
        "\n",
        "\n"
      ],
      "metadata": {
        "id": "kNv07ARGzOUm"
      }
    },
    {
      "cell_type": "code",
      "source": [
        "#\n",
        "dataSet = datasets.load_iris()\n",
        "X_train, X_test, y_train, y_test = train_test_split(dataSet.data, dataSet.target, test_size =0.3)\n",
        "classifier = LogisticRegression(random_state = 0) \n",
        "classifier.fit(X_train, y_train) \n",
        "y_pred = classifier.predict(X_test)\n",
        "cm = confusion_matrix(y_test, y_pred)\n",
        "print(cm)\n",
        "print(\"Accuracy : \", accuracy_score(y_test, y_pred))\n"
      ],
      "metadata": {
        "id": "sOsg77IBzEyo",
        "colab": {
          "base_uri": "https://localhost:8080/"
        },
        "outputId": "95941c53-7d81-437e-be34-fc1c67e91b4c"
      },
      "execution_count": null,
      "outputs": [
        {
          "output_type": "stream",
          "name": "stdout",
          "text": [
            "[[12  0  0]\n",
            " [ 0 17  1]\n",
            " [ 0  0 15]]\n",
            "Accuracy :  0.9777777777777777\n"
          ]
        }
      ]
    },
    {
      "cell_type": "markdown",
      "source": [
        "#Task 2. \n",
        "Apply LogisticRegression to **MNIST** dataset (mnist.csv) which aims at classifying handwritten digits. Dataset includes 784 pixels values of images (28x28). \n",
        "\n",
        "\n",
        "```\n",
        "from sklearn import datasets\n",
        "# load the MNIST digits dataset\n",
        "mnist = datasets.load_digits()\n",
        "```\n",
        "\n"
      ],
      "metadata": {
        "id": "S43IoUT-0OQq"
      }
    },
    {
      "cell_type": "code",
      "source": [
        "#import\n",
        "from sklearn import datasets\n",
        "from sklearn.metrics import accuracy_score\n",
        "from sklearn.metrics import confusion_matrix\n",
        "from sklearn.preprocessing import StandardScaler\n"
      ],
      "metadata": {
        "id": "L2tiDVw-NBi4"
      },
      "execution_count": 13,
      "outputs": []
    },
    {
      "cell_type": "code",
      "source": [
        "# code\n",
        "#load datasets\n",
        "mnist = datasets.load_digits()\n",
        "X = mnist.data\n",
        "y = mnist.target\n",
        "# chuan hoa data\n",
        "scaler = StandardScaler()\n",
        "X_scaled = scaler.fit_transform(X)\n",
        "#split 7-3\n",
        "X_train, X_test, y_train, y_test = train_test_split(X_scaled, y, test_size = 0.3)\n",
        "# tao mo hinh hoi quy (regression)\n",
        "model = LogisticRegression(random_state =1)\n",
        "# train model\n",
        "model.fit(X_train, y_train)\n",
        "#test\n",
        "y_pred = model.predict(X_test)\n",
        "# accuracy\n",
        "accuracy = accuracy_score(y_test, y_pred)\n",
        "print(\"Accuracy: \", accuracy)\n",
        "#ma tran\n",
        "cm = confusion_matrix(y_test, y_pred)\n",
        "print(cm)"
      ],
      "metadata": {
        "id": "_xhPpF5b033h",
        "colab": {
          "base_uri": "https://localhost:8080/"
        },
        "outputId": "02c64f27-8db4-4740-bef4-ff5cfca97b82"
      },
      "execution_count": 17,
      "outputs": [
        {
          "output_type": "stream",
          "name": "stdout",
          "text": [
            "Accuracy:  0.9666666666666667\n",
            "[[50  0  0  0  0  0  1  0  0  0]\n",
            " [ 0 37  0  0  0  0  1  0  1  1]\n",
            " [ 0  1 48  1  0  0  0  0  0  0]\n",
            " [ 0  0  1 58  0  1  0  0  0  0]\n",
            " [ 0  1  0  0 54  0  0  1  0  0]\n",
            " [ 0  0  0  0  0 56  0  1  0  0]\n",
            " [ 0  0  0  0  0  0 53  0  0  0]\n",
            " [ 0  0  0  0  0  0  0 53  0  0]\n",
            " [ 0  2  0  0  0  0  0  0 50  0]\n",
            " [ 0  0  0  1  1  1  0  0  2 63]]\n"
          ]
        }
      ]
    },
    {
      "cell_type": "markdown",
      "source": [
        "#Task 3. \n",
        "Apply another classification algorithm named kNN, which is an instance classifcation model. \n",
        "*  3.1. Perform kNN algorithm to Iris dataset with k={1, 3, 5, …, 29}. Select the best value of k.\n",
        "\n",
        "*   3.2. Then compare the obtained results with those using Logistic regression (based on metrics: accuracy, precision, recall, f1 measure).\n"
      ],
      "metadata": {
        "id": "Rti2y0Wz2KY9"
      }
    },
    {
      "cell_type": "code",
      "source": [
        "from sklearn.metrics import precision_score, recall_score, f1_score, accuracy_score"
      ],
      "metadata": {
        "id": "__Xx2Sd3TJ2O"
      },
      "execution_count": 21,
      "outputs": []
    },
    {
      "cell_type": "code",
      "source": [
        "# code\n",
        "#load datasets\n",
        "iris = load_iris()\n",
        "X = mnist.data\n",
        "y = mnist.target\n",
        "#chuan hoa data\n",
        "scaler = StandardScaler()\n",
        "X_scaled = scaler.fit_transform(X)\n",
        "#split 7-3\n",
        "X_train, X_test, y_train, y_test = train_test_split(X_scaled, y, test_size=0.3, random_state=42)\n",
        "metrics_dict = {'k':[], 'accuracy':[], 'precision':[], 'recall':[], 'f1':[]}\n",
        "# gia tri k chay tu 1 -> 29\n",
        "for k in range(1, 30, 2):\n",
        "  # tao 1 knn\n",
        "  knn = KNeighborsClassifier(n_neighbors= k)\n",
        "  #train knn\n",
        "  knn.fit(X_train, y_train)\n",
        "  #test\n",
        "  y_pred = knn.predict(X_test)\n",
        "  #metrics\n",
        "  accuracy = accuracy_score(y_test, y_pred)\n",
        "  precision = precision_score(y_test, y_pred, average='macro')\n",
        "  recall = recall_score(y_test, y_pred, average='macro')\n",
        "  f1 = f1_score(y_test, y_pred, average='macro') \n",
        "  # luu tru cac so lieu\n",
        "  metrics_dict['k'].append(k)\n",
        "  metrics_dict['accuracy'].append(accuracy)\n",
        "  metrics_dict['precision'].append(precision)\n",
        "  metrics_dict['recall'].append(recall)\n",
        "  metrics_dict['f1'].append(f1)  \n",
        "#print\n",
        "df_metrics = pd.DataFrame.from_dict(metrics_dict)\n",
        "print(df_metrics)\n",
        "max_index = df_metrics['accuracy'].idxmax()\n",
        "best_k = df_metrics['k'][max_index]\n",
        "print(\"Best k:\", best_k)\n",
        "plt.plot(metrics_dict['k'], metrics_dict['accuracy'], label ='Accuracy')\n",
        "plt.plot(metrics_dict['k'], metrics_dict['precision'], label='Precision')\n",
        "plt.plot(metrics_dict['k'], metrics_dict['recall'], label='Recall')\n",
        "plt.plot(metrics_dict['k'], metrics_dict['f1'], label='F1')\n",
        "plt.xlabel(\"K\")\n",
        "plt.legend()\n"
      ],
      "metadata": {
        "id": "13LkkfpS2ZUR",
        "colab": {
          "base_uri": "https://localhost:8080/",
          "height": 607
        },
        "outputId": "c5aa031e-a02b-4b7c-f682-fbc03739114c"
      },
      "execution_count": 22,
      "outputs": [
        {
          "output_type": "stream",
          "name": "stdout",
          "text": [
            "     k  accuracy  precision    recall        f1\n",
            "0    1  0.974074   0.973178  0.973897  0.973251\n",
            "1    3  0.966667   0.965596  0.966804  0.965944\n",
            "2    5  0.977778   0.978292  0.978986  0.978407\n",
            "3    7  0.979630   0.980579  0.980861  0.980599\n",
            "4    9  0.975926   0.976342  0.977020  0.976474\n",
            "5   11  0.972222   0.972381  0.973169  0.972582\n",
            "6   13  0.957407   0.955896  0.958504  0.956765\n",
            "7   15  0.951852   0.949688  0.952554  0.950437\n",
            "8   17  0.944444   0.942572  0.944871  0.942698\n",
            "9   19  0.942593   0.940316  0.942903  0.940828\n",
            "10  21  0.942593   0.940465  0.943051  0.940945\n",
            "11  23  0.937037   0.934943  0.937356  0.935009\n",
            "12  25  0.937037   0.934735  0.937208  0.934769\n",
            "13  27  0.937037   0.934470  0.937059  0.934662\n",
            "14  29  0.937037   0.934344  0.937365  0.934949\n",
            "Best k: 7\n"
          ]
        },
        {
          "output_type": "execute_result",
          "data": {
            "text/plain": [
              "<matplotlib.legend.Legend at 0x7f53c68f3cd0>"
            ]
          },
          "metadata": {},
          "execution_count": 22
        },
        {
          "output_type": "display_data",
          "data": {
            "text/plain": [
              "<Figure size 432x288 with 1 Axes>"
            ],
            "image/png": "[encoded data removed]"
          },
          "metadata": {
            "needs_background": "light"
          }
        }
      ]
    },
    {
      "cell_type": "markdown",
      "source": [
        "#Task 4. \n",
        "Similar to Task 3, apply kNN algorithm to **mnist** dataset which included in datasets of sklearn API.\n",
        "*  4.1.\tPerform kNN algorithm to Iris dataset with k={1, 3, 5, …, 29}. Select the best value of k.\n",
        "*  4.2.\tThen compare the obtained results with those using Logistic regression (based on metrics: accuracy, precision, recall, f1 measure).\n"
      ],
      "metadata": {
        "id": "b52OPWPD2afi"
      }
    },
    {
      "cell_type": "code",
      "source": [
        "from sklearn.datasets import load_digits\n",
        "from sklearn.neighbors import KNeighborsClassifier\n",
        "from sklearn.metrics import accuracy_score, precision_score, recall_score, f1_score\n"
      ],
      "metadata": {
        "id": "omoNx2JSZm27"
      },
      "execution_count": 26,
      "outputs": []
    },
    {
      "cell_type": "code",
      "source": [
        "#code\n",
        "mnist = load_digits()\n",
        "X = mnist.data\n",
        "y = mnist.target\n",
        "#chuan hoa data\n",
        "scaler = StandardScaler()\n",
        "X_scaled = scaler.fit_transform(X)\n",
        "# Split 7-3\n",
        "X_train, X_test, y_train, y_test = train_test_split(X_scaled, y, test_size=0.3, random_state=42)\n",
        "#gia tri tu 1 -> 29\n",
        "accuracy_scores = []\n",
        "k_values = range(1, 30, 2)\n",
        "for k in k_values:\n",
        "  knn = KNeighborsClassifier(n_neighbors =k)\n",
        "  knn.fit(X_train, y_train)\n",
        "  y_pred = knn.predict(X_test)\n",
        "  accuracy_scores.append(accuracy_score(y_test, y_pred))\n",
        "best_k = k_values[accuracy_scores.index(max(accuracy_scores))]\n",
        "print(\"Best k:\", best_k)\n",
        "# kNN with the best k value\n",
        "knn = KNeighborsClassifier(n_neighbors=best_k)\n",
        "knn.fit(X_train, y_train)\n",
        "y_pred_knn = knn.predict(X_test)\n",
        "# Logistic Regression\n",
        "logreg = LogisticRegression(max_iter=1000)\n",
        "logreg.fit(X_train, y_train)\n",
        "y_pred_logreg = logreg.predict(X_test)\n",
        "# Metrics for kNN and Logistic Regression\n",
        "metrics_dict = {\n",
        "    \"kNN\": {\n",
        "        \"accuracy\": accuracy_score(y_test, y_pred_knn),\n",
        "        \"precision\": precision_score(y_test, y_pred_knn, average='macro'),\n",
        "        \"recall\": recall_score(y_test, y_pred_knn, average='macro'),\n",
        "        \"f1_score\": f1_score(y_test, y_pred_knn, average='macro')\n",
        "    },\n",
        "    \"Logistic Regression\": {\n",
        "        \"accuracy\": accuracy_score(y_test, y_pred_logreg),\n",
        "        \"precision\": precision_score(y_test, y_pred_logreg, average='macro'),\n",
        "        \"recall\": recall_score(y_test, y_pred_logreg, average='macro'),\n",
        "        \"f1_score\": f1_score(y_test, y_pred_logreg, average='macro')\n",
        "    }\n",
        "}\n",
        "#print\n",
        "import pandas as pd\n",
        "df_metrics = pd.DataFrame.from_dict(metrics_dict, orient='index')\n",
        "print(df_metrics)\n",
        "\n"
      ],
      "metadata": {
        "id": "Rw_-8FIf2KxW",
        "colab": {
          "base_uri": "https://localhost:8080/"
        },
        "outputId": "9ddaa202-c9fe-4a32-fa08-7c817a5f5e1c"
      },
      "execution_count": 27,
      "outputs": [
        {
          "output_type": "stream",
          "name": "stdout",
          "text": [
            "Best k: 7\n",
            "                     accuracy  precision    recall  f1_score\n",
            "kNN                   0.97963   0.980579  0.980861  0.980599\n",
            "Logistic Regression   0.97037   0.969846  0.970960  0.969921\n"
          ]
        }
      ]
    },
    {
      "cell_type": "markdown",
      "source": [
        "#Task 5. \n",
        "Compare the performance of selected classification algorithms (**Decision Treen, kNN, and Logistic Regression**) to ***spam detection***. The dataset can be accessed from the link: http://archive.ics.uci.edu/ml/datasets/Spambase \n",
        "Attribute Information:\n",
        "The last column of 'spambase.csv denotes whether the e-mail was considered spam (1) or not (0), i.e. unsolicited commercial e-mail. Most of the attributes indicate whether a particular word or character was frequently occuring in the e-mail. The run-length attributes (55-57) measure the length of sequences of consecutive capital letters. For the statistical measures of each attribute, see the end of this file. Here are the definitions of the attributes: \n",
        "*  48 continuous real [0,100] attributes of type word_freq_WORD \n",
        "= percentage of words in the e-mail that match WORD, i.e. 100 * (number of times the WORD appears in the e-mail) / total number of words in e-mail. A \"word\" in this case is any string of alphanumeric characters bounded by non-alphanumeric characters or end-of-string. **Example**: word_freq_address: percentage of words in the e-mail that match ADDRESS.\n",
        "*  6 continuous real [0,100] attributes of type char_freq_CHAR] \n",
        "= percentage of characters in the e-mail that match CHAR, i.e. 100 * (number of CHAR occurences) / total characters in e-mail\n",
        "*  1 continuous real [1,...] attribute of type capital_run_length_average \n",
        "= average length of uninterrupted sequences of capital letters\n",
        "*  1 continuous integer [1,...] attribute of type capital_run_length_longest \n",
        "= length of longest uninterrupted sequence of capital letters\n",
        "*  1 continuous integer [1,...] attribute of type capital_run_length_total = sum of length of uninterrupted sequences of capital letters = total number of capital letters in the e-mail\n",
        "*  1 nominal {0,1} class attribute of type spam = denotes whether the e-mail was considered spam (1) or not (0), i.e. unsolicited commercial e-mail. \n",
        "\n",
        "\n",
        "---\n",
        "\n",
        "\n",
        "In order to compare the performance of selected algorithms, some common metrics including **accuracy, precision, recall, f1 measures** could be used.\n"
      ],
      "metadata": {
        "id": "MVzSk4l505E0"
      }
    },
    {
      "cell_type": "code",
      "source": [
        "#import library\n",
        "from google.colab import drive\n",
        "drive.mount('/content/gdrive')\n",
        "%cd '/content/gdrive/MyDrive/ML2023'\n",
        "     "
      ],
      "metadata": {
        "colab": {
          "base_uri": "https://localhost:8080/"
        },
        "id": "efKTl8vJefF_",
        "outputId": "cacc0f6a-b327-41af-bd68-3bff9c27d2be"
      },
      "execution_count": 28,
      "outputs": [
        {
          "output_type": "stream",
          "name": "stdout",
          "text": [
            "Mounted at /content/gdrive\n",
            "/content/gdrive/MyDrive/ML2023\n"
          ]
        }
      ]
    },
    {
      "cell_type": "code",
      "source": [
        "#import\n",
        "from sklearn.tree import DecisionTreeClassifier"
      ],
      "metadata": {
        "id": "6axlhU2zesca"
      },
      "execution_count": 30,
      "outputs": []
    },
    {
      "cell_type": "code",
      "source": [
        "# code\n",
        "dataSet = pd.read_csv(\"spambase.csv\")\n",
        "X = dataSet.drop('class', axis=1)\n",
        "y = dataSet['class']\n",
        "#Chuan hoa du lieu\n",
        "scaler = StandardScaler()\n",
        "X_scaled = scaler.fit_transform(X)\n",
        "# Split 7-3\n",
        "X_train, X_test, y_train, y_test = train_test_split(X_scaled, y, test_size=0.3, random_state=42)\n",
        "#Logistic Regression\n",
        "logreg = LogisticRegression(max_iter=1000)\n",
        "logreg.fit(X_train, y_train)\n",
        "y_pred_logreg = logreg.predict(X_test)\n",
        "#Knn Regression\n",
        "#k=1\n",
        "knn = KNeighborsClassifier(n_neighbors=5)\n",
        "knn.fit(X_train, y_train)\n",
        "y_pred_knn = knn.predict(X_test)\n",
        "#Decision Tree\n",
        "clf_model = DecisionTreeClassifier(criterion=\"gini\", random_state=42,\n",
        "max_depth=3, min_samples_leaf=5) \n",
        "clf_model.fit(X_train,y_train)\n",
        "y_predict_tree = clf_model.predict(X_test)\n",
        "# Metrics for kNN and Logistic Regression and Decision Tree\n",
        "metrics_dict = {\n",
        "    \"kNN\": {\n",
        "        \"accuracy\": accuracy_score(y_test, y_pred_knn),\n",
        "        \"precision\": precision_score(y_test, y_pred_knn, average='macro'),\n",
        "        \"recall\": recall_score(y_test, y_pred_knn, average='macro'),\n",
        "        \"f1_score\": f1_score(y_test, y_pred_knn, average='macro')\n",
        "    },\n",
        "    \"Logistic Regression\": {\n",
        "        \"accuracy\": accuracy_score(y_test, y_pred_logreg),\n",
        "        \"precision\": precision_score(y_test, y_pred_logreg, average='macro'),\n",
        "        \"recall\": recall_score(y_test, y_pred_logreg, average='macro'),\n",
        "        \"f1_score\": f1_score(y_test, y_pred_logreg, average='macro')\n",
        "    },\n",
        "    \"Decision Tree\": {\n",
        "        \"accuracy\": accuracy_score(y_test, y_predict_tree),\n",
        "        \"precision\": precision_score(y_test, y_predict_tree, average='macro'),\n",
        "        \"recall\": recall_score(y_test, y_predict_tree, average='macro'),\n",
        "        \"f1_score\": f1_score(y_test, y_predict_tree, average='macro')\n",
        "    }\n",
        "}\n",
        "#print\n",
        "import pandas as pd\n",
        "df_metrics = pd.DataFrame.from_dict(metrics_dict, orient='index')\n",
        "print(df_metrics)"
      ],
      "metadata": {
        "id": "W_1v_ivR2f6D",
        "colab": {
          "base_uri": "https://localhost:8080/"
        },
        "outputId": "2722b0d3-0acf-4baa-85d2-33059477e36a"
      },
      "execution_count": 31,
      "outputs": [
        {
          "output_type": "stream",
          "name": "stdout",
          "text": [
            "                     accuracy  precision    recall  f1_score\n",
            "kNN                  0.900072   0.899550  0.894362  0.896659\n",
            "Logistic Regression  0.922520   0.924177  0.916331  0.919673\n",
            "Decision Tree        0.861694   0.884865  0.840116  0.850874\n"
          ]
        }
      ]
    },
    {
      "cell_type": "markdown",
      "source": [
        "#Finally,\n",
        "Save a copy in your Github. Remember renaming the notebook."
      ],
      "metadata": {
        "id": "Ok7RGkea_b7n"
      }
    }
  ]
}
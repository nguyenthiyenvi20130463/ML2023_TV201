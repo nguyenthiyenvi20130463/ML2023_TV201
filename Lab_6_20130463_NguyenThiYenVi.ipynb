{
  "nbformat": 4,
  "nbformat_minor": 0,
  "metadata": {
    "colab": {
      "provenance": [],
      "include_colab_link": true
    },
    "kernelspec": {
      "name": "python3",
      "display_name": "Python 3"
    },
    "language_info": {
      "name": "python"
    }
  },
  "cells": [
    {
      "cell_type": "markdown",
      "metadata": {
        "id": "view-in-github",
        "colab_type": "text"
      },
      "source": [
        "<a href=\"https://colab.research.google.com/github/nguyenthiyenvi20130463/ML2023_TV201/blob/main/Lab_6_20130463_NguyenThiYenVi.ipynb\" target=\"_parent\"><img src=\"https://colab.research.google.com/assets/colab-badge.svg\" alt=\"Open In Colab\"/></a>"
      ]
    },
    {
      "cell_type": "markdown",
      "source": [
        "# This lab is to deal with classification task using **Random Forests** and **Naïve Bayes** algorithms with/without **Feature Selection**. \n",
        "\n",
        "*   **Deadline: 23:59, 25/03/2023**\n",
        "\n"
      ],
      "metadata": {
        "id": "LMzehe0sy5wr"
      }
    },
    {
      "cell_type": "markdown",
      "source": [
        "# Import libraries"
      ],
      "metadata": {
        "id": "H4nJmxp9zGX4"
      }
    },
    {
      "cell_type": "code",
      "source": [
        "#code\n",
        "from google.colab import drive\n",
        "drive.mount('/content/gdrive')\n",
        "%cd '/content/gdrive/MyDrive/ML2023'"
      ],
      "metadata": {
        "colab": {
          "base_uri": "https://localhost:8080/"
        },
        "id": "j0m3grVv0tmJ",
        "outputId": "ee220fa1-b248-49ea-ca16-4269d75916f4"
      },
      "execution_count": 1,
      "outputs": [
        {
          "output_type": "stream",
          "name": "stdout",
          "text": [
            "Mounted at /content/gdrive\n",
            "/content/gdrive/MyDrive/ML2023\n"
          ]
        }
      ]
    },
    {
      "cell_type": "code",
      "execution_count": 9,
      "metadata": {
        "id": "DoVWQ8AEyc-C"
      },
      "outputs": [],
      "source": [
        "# import\n",
        "import matplotlib.pyplot as plt\n",
        "import numpy as np\n",
        "import pandas as pd\n",
        "from sklearn import datasets\n",
        "from sklearn.datasets import load_iris\n",
        "from sklearn.datasets import load_digits\n",
        "from sklearn.preprocessing import StandardScaler\n",
        "from sklearn.model_selection import train_test_split\n",
        "from prettytable import PrettyTable\n",
        "from sklearn.metrics import accuracy_score, precision_score, recall_score, f1_score\n",
        "from sklearn.feature_selection import SelectKBest\n",
        "from sklearn.feature_selection import chi2\n",
        "from sklearn.feature_selection import RFE\n",
        "from sklearn.decomposition import PCA\n",
        "from sklearn.feature_selection import SelectKBest\n",
        "from sklearn.feature_selection import f_classif\n",
        "from sklearn.feature_selection import SelectFromModel\n"
      ]
    },
    {
      "cell_type": "markdown",
      "source": [
        "#Task 1. \n",
        "Task 1. Compare the performance of selected classification algorithms including **Random forest**, **NaiveBayes**, and **SVM** with **mnist** dataset based on **accuracy, precision, recall, f1** measures according to **without using selection feature** and **using selection feature**.\n",
        "\n"
      ],
      "metadata": {
        "id": "kNv07ARGzOUm"
      }
    },
    {
      "cell_type": "code",
      "source": [
        "#import\n",
        "from sklearn.naive_bayes import GaussianNB\n",
        "from sklearn.ensemble import ExtraTreesClassifier\n",
        "from sklearn.ensemble import RandomForestClassifier\n",
        "from sklearn import svm"
      ],
      "metadata": {
        "id": "gJJQ1geT2VqZ"
      },
      "execution_count": 3,
      "outputs": []
    },
    {
      "cell_type": "code",
      "source": [
        "# code\n",
        "#load data\n",
        "mnist = datasets.load_digits()\n",
        "X = mnist.data\n",
        "y = mnist.target\n",
        "\n",
        "# chuan hoa data\n",
        "scaler = StandardScaler()\n",
        "X_scaler = scaler.fit_transform(X)\n",
        "X_train, X_test, y_train, y_test = train_test_split(X_scaler, y, test_size=0.3)\n",
        "\n",
        "#Create a Random Forest Classifier\n",
        "clf_randomforest =RandomForestClassifier(n_estimators=100)\n",
        "clf_randomforest.fit(X_train,y_train) #Train the model using the training sets\n",
        "y_pred_random = clf_randomforest.predict(X_test)\n",
        "\n",
        "# GaussianNB\n",
        "model = GaussianNB()\n",
        "model.fit(X_train, y_train)\n",
        "y_pred_nb = model.predict(X_test)\n",
        "\n",
        "#Create a svm Classifier\n",
        "clf = svm.SVC(kernel='linear') # Linear Kernel\n",
        "clf.fit(X_train, y_train)#Train the model using the training sets\n",
        "y_pred_svm = clf.predict(X_test)#Predict the response for test dataset\n",
        "\n",
        "# these 3 are the columns of the table\n",
        "t = PrettyTable([' ', 'accuracy','precision','recall','f1_score'])\n",
        "#To insert rows\n",
        "t.add_row(['Random forest',accuracy_score(y_test, y_pred_random),precision_score(y_test, y_pred_random, average='macro'),recall_score(y_test, y_pred_random, average='macro'),f1_score(y_test, y_pred_random, average='macro')])\n",
        "t.add_row(['NaiveBayes',accuracy_score(y_test, y_pred_nb), precision_score(y_test, y_pred_nb, average='macro'),recall_score(y_test, y_pred_nb, average='macro'),f1_score(y_test, y_pred_nb, average='macro')])\n",
        "t.add_row(['SVM',accuracy_score(y_test, y_pred_svm), precision_score(y_test, y_pred_svm, average='macro'), recall_score(y_test, y_pred_svm, average='macro'),f1_score(y_test, y_pred_svm, average='macro')])\n",
        "print(t)\n"
      ],
      "metadata": {
        "id": "sOsg77IBzEyo",
        "colab": {
          "base_uri": "https://localhost:8080/"
        },
        "outputId": "2d0025ba-dcc6-43b1-b8ce-57f2e8ea123e"
      },
      "execution_count": 15,
      "outputs": [
        {
          "output_type": "stream",
          "name": "stdout",
          "text": [
            "+---------------+--------------------+--------------------+--------------------+--------------------+\n",
            "|               |      accuracy      |     precision      |       recall       |      f1_score      |\n",
            "+---------------+--------------------+--------------------+--------------------+--------------------+\n",
            "| Random forest | 0.9666666666666667 | 0.9683792146408585 | 0.9667552103844518 | 0.9670939448162008 |\n",
            "|   NaiveBayes  | 0.762962962962963  | 0.837875910234601  | 0.7708111156576642 | 0.7721686001200319 |\n",
            "|      SVM      | 0.9722222222222222 | 0.9720988667918716 | 0.972048640114952  | 0.9716080718650607 |\n",
            "+---------------+--------------------+--------------------+--------------------+--------------------+\n"
          ]
        }
      ]
    },
    {
      "cell_type": "code",
      "source": [
        "#importances\n",
        "importances =clf_randomforest.feature_importances_\n",
        "sorted_idx = np.argsort(importances)[::-1]\n",
        "for idx in sorted_idx:\n",
        "    print(f\"{mnist.feature_names[idx]}: {importances[idx]}\")"
      ],
      "metadata": {
        "colab": {
          "base_uri": "https://localhost:8080/"
        },
        "id": "bN15vP1wkfLq",
        "outputId": "cb4a3d85-1245-42ec-91ba-b91437fb7b19"
      },
      "execution_count": 16,
      "outputs": [
        {
          "output_type": "stream",
          "name": "stdout",
          "text": [
            "pixel_2_5: 0.056475524638299586\n",
            "pixel_4_4: 0.041033662475870106\n",
            "pixel_3_2: 0.03834236266949564\n",
            "pixel_5_3: 0.03774923156238446\n",
            "pixel_5_2: 0.03586767267980661\n",
            "pixel_2_4: 0.03342316771166278\n",
            "pixel_1_5: 0.03159013986127143\n",
            "pixel_3_6: 0.02974679193802328\n",
            "pixel_3_4: 0.02936134270251676\n",
            "pixel_4_1: 0.029265696612235558\n",
            "pixel_3_3: 0.027772110794187333\n",
            "pixel_4_2: 0.027733844648653232\n",
            "pixel_6_5: 0.027336549842543866\n",
            "pixel_1_2: 0.026648088691899517\n",
            "pixel_2_3: 0.02645835057194009\n",
            "pixel_7_5: 0.025712072017826153\n",
            "pixel_6_6: 0.024245402336177353\n",
            "pixel_0_5: 0.02391237270165109\n",
            "pixel_0_2: 0.02341369425613458\n",
            "pixel_4_6: 0.022841810904258453\n",
            "pixel_7_4: 0.022790398590000982\n",
            "pixel_3_5: 0.02217483816339645\n",
            "pixel_6_3: 0.021341954479512634\n",
            "pixel_5_6: 0.02063989562423215\n",
            "pixel_2_2: 0.019580961420473372\n",
            "pixel_5_4: 0.019485870999672597\n",
            "pixel_6_2: 0.01930175090924478\n",
            "pixel_4_3: 0.018639761841183256\n",
            "pixel_4_5: 0.018316093150757704\n",
            "pixel_5_5: 0.017805578857539816\n",
            "pixel_7_2: 0.01777534834505885\n",
            "pixel_7_6: 0.016618935892609547\n",
            "pixel_1_4: 0.014853041327661076\n",
            "pixel_6_4: 0.014836685562838766\n",
            "pixel_3_1: 0.013579495410448618\n",
            "pixel_7_3: 0.012613865678306507\n",
            "pixel_1_1: 0.010678208989639898\n",
            "pixel_0_3: 0.010284180054894211\n",
            "pixel_5_1: 0.009770575391329278\n",
            "pixel_2_6: 0.009353916370977865\n",
            "pixel_0_6: 0.008621031173070238\n",
            "pixel_0_4: 0.008389782032857628\n",
            "pixel_2_1: 0.008284249676940157\n",
            "pixel_1_3: 0.006970203396470235\n",
            "pixel_1_6: 0.00530797546200372\n",
            "pixel_7_7: 0.0031717739454853915\n",
            "pixel_6_7: 0.002493563133620933\n",
            "pixel_0_1: 0.00199678610301255\n",
            "pixel_6_1: 0.0018142004089792693\n",
            "pixel_7_1: 0.0018004930792377349\n",
            "pixel_0_7: 0.0005723481023202098\n",
            "pixel_1_7: 0.0005362778133588912\n",
            "pixel_2_7: 0.0002898708388848764\n",
            "pixel_5_7: 0.00013511733217069294\n",
            "pixel_3_7: 7.990510111381532e-05\n",
            "pixel_3_0: 7.492743076661041e-05\n",
            "pixel_2_0: 7.254422715254347e-05\n",
            "pixel_1_0: 8.85546777581929e-06\n",
            "pixel_5_0: 8.848598162419997e-06\n",
            "pixel_4_0: 0.0\n",
            "pixel_4_7: 0.0\n",
            "pixel_6_0: 0.0\n",
            "pixel_7_0: 0.0\n",
            "pixel_0_0: 0.0\n"
          ]
        }
      ]
    },
    {
      "cell_type": "code",
      "source": [
        "sfm = SelectFromModel(clf_randomforest, threshold=0.002)\n",
        "X_train = sfm.fit_transform(X_train, y_train)\n",
        "X_test = sfm.transform(X_test)\n",
        "\n",
        "#Create a Random Forest Classifier\n",
        "clf_randomforest =RandomForestClassifier(n_estimators=100)\n",
        "clf_randomforest.fit(X_train,y_train) #Train the model using the training sets\n",
        "y_pred_random = clf_randomforest.predict(X_test)\n",
        "\n",
        "# GaussianNB\n",
        "model = GaussianNB()\n",
        "model.fit(X_train, y_train)\n",
        "y_pred_nb = model.predict(X_test)\n",
        "\n",
        "#Create a svm Classifier\n",
        "clf = svm.SVC(kernel='linear') # Linear Kernel\n",
        "clf.fit(X_train, y_train)#Train the model using the training sets\n",
        "y_pred_svm = clf.predict(X_test)#Predict the response for test dataset\n",
        "\n",
        "# these 3 are the columns of the table\n",
        "t = PrettyTable([' ', 'accuracy','precision','recall','f1_score'])\n",
        "#To insert rows\n",
        "t.add_row(['Random forest',accuracy_score(y_test, y_pred_random),precision_score(y_test, y_pred_random, average='macro'),recall_score(y_test, y_pred_random, average='macro'),f1_score(y_test, y_pred_random, average='macro')])\n",
        "t.add_row(['NaiveBayes',accuracy_score(y_test, y_pred_nb), precision_score(y_test, y_pred_nb, average='macro'),recall_score(y_test, y_pred_nb, average='macro'),f1_score(y_test, y_pred_nb, average='macro')])\n",
        "t.add_row(['SVM',accuracy_score(y_test, y_pred_svm), precision_score(y_test, y_pred_svm, average='macro'), recall_score(y_test, y_pred_svm, average='macro'),f1_score(y_test, y_pred_svm, average='macro')])\n",
        "print(t)\n"
      ],
      "metadata": {
        "colab": {
          "base_uri": "https://localhost:8080/"
        },
        "id": "J-uIBD6agRuF",
        "outputId": "850a176e-bdd4-404d-ccaa-cb5923f02b13"
      },
      "execution_count": 17,
      "outputs": [
        {
          "output_type": "stream",
          "name": "stdout",
          "text": [
            "+---------------+--------------------+--------------------+--------------------+--------------------+\n",
            "|               |      accuracy      |     precision      |       recall       |      f1_score      |\n",
            "+---------------+--------------------+--------------------+--------------------+--------------------+\n",
            "| Random forest | 0.9703703703703703 | 0.9716552789184891 | 0.9706421990009153 | 0.9707914470939916 |\n",
            "|   NaiveBayes  | 0.8555555555555555 | 0.8694339201355048 | 0.8556278418404981 | 0.8557950679298975 |\n",
            "|      SVM      | 0.9740740740740741 | 0.9730554528919875 | 0.9738020007227834 | 0.9728844838199056 |\n",
            "+---------------+--------------------+--------------------+--------------------+--------------------+\n"
          ]
        }
      ]
    },
    {
      "cell_type": "markdown",
      "source": [
        "#Task 2. \n",
        "For given bank dataset (bank.csv) having the following attributes :\n",
        "1.\t**age** (numeric)\n",
        "2.\t**job** : type of job (categorical: 'admin.','blue-collar','entrepreneur','housemaid','management','retired','self-employed','services','student','technician','unemployed','unknown')\n",
        "3.\t**marital** : marital status (categorical: 'divorced','married','single','unknown'; note: 'divorced' means divorced or widowed)\n",
        "4.\t**education** (categorical: 'basic.4y','basic.6y','basic.9y','high.school','illiterate','professional.course','university.degree','unknown')\n",
        "5.\t**default**: has credit in default? (categorical: 'no','yes','unknown')\n",
        "6.\t**housing**: has housing loan? (categorical: 'no','yes','unknown')\n",
        "7.\t**loan**: has personal loan? (categorical: 'no','yes','unknown')\n",
        "8.\t**contact**: contact communication type (categorical: 'cellular','telephone')\n",
        "9.\t**month**: last contact month of year (categorical: 'jan', 'feb', 'mar', ..., 'nov', 'dec')\n",
        "10.\t**day_of_week**: last contact day of the week (categorical: 'mon','tue','wed','thu','fri')\n",
        "11.\t**duration**: last contact duration, in seconds (numeric). Important note: this attribute highly affects the output target (e.g., if duration=0 then y='no'). Yet, the duration is not known before a call is performed. Also, after the end of the call y is obviously known. Thus, this input should only be included for benchmark purposes and should be discarded if the intention is to have a realistic predictive model.\n",
        "12.\t**campaign**: number of contacts performed during this campaign and for this client (numeric, includes last contact)\n",
        "13.\t**pdays**: number of days that passed by after the client was last contacted from a previous campaign (numeric; 999 means client was not previously contacted)\n",
        "14.\t**previous**: number of contacts performed before this campaign and for this client (numeric)\n",
        "15.\t**poutcome**: outcome of the previous marketing campaign (categorical: 'failure','nonexistent','success')\n",
        "Output variable (desired target):\n",
        "16.\t**y**. has the client subscribed a term deposit? (binary: 'yes','no')\n",
        "\n"
      ],
      "metadata": {
        "id": "b52OPWPD2afi"
      }
    },
    {
      "cell_type": "code",
      "source": [
        "#import\n",
        "from sklearn.preprocessing import OneHotEncoder\n"
      ],
      "metadata": {
        "id": "9JLH08eCqmr-"
      },
      "execution_count": 22,
      "outputs": []
    },
    {
      "cell_type": "code",
      "source": [
        "# code\n",
        "dataSet = pd.read_csv(\"bank.csv\")\n",
        "print(dataSet)\n"
      ],
      "metadata": {
        "colab": {
          "base_uri": "https://localhost:8080/"
        },
        "id": "Srx-qFf6DHCY",
        "outputId": "42d097f4-c9e0-4579-fbf6-617527478b27"
      },
      "execution_count": 19,
      "outputs": [
        {
          "output_type": "stream",
          "name": "stdout",
          "text": [
            "       age          job  marital  education default  balance housing loan  \\\n",
            "0       59       admin.  married  secondary      no     2343     yes   no   \n",
            "1       56       admin.  married  secondary      no       45      no   no   \n",
            "2       41   technician  married  secondary      no     1270     yes   no   \n",
            "3       55     services  married  secondary      no     2476     yes   no   \n",
            "4       54       admin.  married   tertiary      no      184      no   no   \n",
            "...    ...          ...      ...        ...     ...      ...     ...  ...   \n",
            "11157   33  blue-collar   single    primary      no        1     yes   no   \n",
            "11158   39     services  married  secondary      no      733      no   no   \n",
            "11159   32   technician   single  secondary      no       29      no   no   \n",
            "11160   43   technician  married  secondary      no        0      no  yes   \n",
            "11161   34   technician  married  secondary      no        0      no   no   \n",
            "\n",
            "        contact  day month  duration  campaign  pdays  previous poutcome  \\\n",
            "0       unknown    5   may      1042         1     -1         0  unknown   \n",
            "1       unknown    5   may      1467         1     -1         0  unknown   \n",
            "2       unknown    5   may      1389         1     -1         0  unknown   \n",
            "3       unknown    5   may       579         1     -1         0  unknown   \n",
            "4       unknown    5   may       673         2     -1         0  unknown   \n",
            "...         ...  ...   ...       ...       ...    ...       ...      ...   \n",
            "11157  cellular   20   apr       257         1     -1         0  unknown   \n",
            "11158   unknown   16   jun        83         4     -1         0  unknown   \n",
            "11159  cellular   19   aug       156         2     -1         0  unknown   \n",
            "11160  cellular    8   may         9         2    172         5  failure   \n",
            "11161  cellular    9   jul       628         1     -1         0  unknown   \n",
            "\n",
            "      deposit  \n",
            "0         yes  \n",
            "1         yes  \n",
            "2         yes  \n",
            "3         yes  \n",
            "4         yes  \n",
            "...       ...  \n",
            "11157      no  \n",
            "11158      no  \n",
            "11159      no  \n",
            "11160      no  \n",
            "11161      no  \n",
            "\n",
            "[11162 rows x 17 columns]\n"
          ]
        }
      ]
    },
    {
      "cell_type": "markdown",
      "source": [
        "#3.1. Apply StandardScaler() function to columns that contains numerical data ('age', 'balance', 'day', 'campaign', 'pdays', 'previous')"
      ],
      "metadata": {
        "id": "q89LEvT7dqaZ"
      }
    },
    {
      "cell_type": "code",
      "source": [
        "#code\n",
        "scaler = StandardScaler()\n",
        "dataSet[['age', 'balance', 'day', 'campaign', 'pdays', 'previous']] = scaler.fit_transform(dataSet[['age', 'balance', 'day', 'campaign', 'pdays', 'previous']])\n",
        "print(dataSet[['age', 'balance', 'day', 'campaign', 'pdays', 'previous']])\n"
      ],
      "metadata": {
        "id": "8vx3mfIidu4P",
        "colab": {
          "base_uri": "https://localhost:8080/"
        },
        "outputId": "fd7ca071-3058-42f8-d324-49f5ce267ee2"
      },
      "execution_count": 20,
      "outputs": [
        {
          "output_type": "stream",
          "name": "stdout",
          "text": [
            "            age   balance       day  campaign     pdays  previous\n",
            "0      1.491505  0.252525 -1.265746 -0.554168 -0.481184 -0.363260\n",
            "1      1.239676 -0.459974 -1.265746 -0.554168 -0.481184 -0.363260\n",
            "2     -0.019470 -0.080160 -1.265746 -0.554168 -0.481184 -0.363260\n",
            "3      1.155733  0.293762 -1.265746 -0.554168 -0.481184 -0.363260\n",
            "4      1.071790 -0.416876 -1.265746 -0.186785 -0.481184 -0.363260\n",
            "...         ...       ...       ...       ...       ...       ...\n",
            "11157 -0.691015 -0.473616  0.515650 -0.554168 -0.481184 -0.363260\n",
            "11158 -0.187357 -0.246658  0.040612  0.547981 -0.481184 -0.363260\n",
            "11159 -0.774958 -0.464934  0.396891 -0.186785 -0.481184 -0.363260\n",
            "11160  0.148416 -0.473926 -0.909466 -0.186785  1.109571  1.818332\n",
            "11161 -0.607072 -0.473926 -0.790707 -0.554168 -0.481184 -0.363260\n",
            "\n",
            "[11162 rows x 6 columns]\n"
          ]
        }
      ]
    },
    {
      "cell_type": "markdown",
      "source": [
        "#3.2. Apply Encode Categorical Value (OneHotEncoder) to transfrom categorical data to numerical data ('job', 'marital', 'education', 'default', 'housing', 'loan', 'contact', 'month', 'poutcome')"
      ],
      "metadata": {
        "id": "r7acR0TxdvY8"
      }
    },
    {
      "cell_type": "code",
      "source": [
        "#code\n",
        "encode_cols = ['job', 'marital', 'education', 'default', 'housing', 'loan', 'contact', 'month', 'poutcome']\n",
        "onehotencoder = OneHotEncoder()\n",
        "onehotencoder.fit(dataSet[encode_cols])\n",
        "onehot_encoded = onehotencoder.transform(dataSet[encode_cols]).toarray()\n",
        "onehot_encoded_df = pd.DataFrame(onehot_encoded, columns=onehotencoder.get_feature_names_out(encode_cols))\n",
        "dataSet = pd.concat([dataSet, onehot_encoded_df], axis=1)\n",
        "dataSet = dataSet.drop(encode_cols, axis=1)\n",
        "print(dataSet.columns)"
      ],
      "metadata": {
        "id": "egtgBmAtd0um",
        "colab": {
          "base_uri": "https://localhost:8080/"
        },
        "outputId": "71ff2964-4867-403d-c5c5-9f5475f301ab"
      },
      "execution_count": 23,
      "outputs": [
        {
          "output_type": "stream",
          "name": "stdout",
          "text": [
            "Index(['age', 'balance', 'day', 'duration', 'campaign', 'pdays', 'previous',\n",
            "       'deposit', 'job_admin.', 'job_blue-collar', 'job_entrepreneur',\n",
            "       'job_housemaid', 'job_management', 'job_retired', 'job_self-employed',\n",
            "       'job_services', 'job_student', 'job_technician', 'job_unemployed',\n",
            "       'job_unknown', 'marital_divorced', 'marital_married', 'marital_single',\n",
            "       'education_primary', 'education_secondary', 'education_tertiary',\n",
            "       'education_unknown', 'default_no', 'default_yes', 'housing_no',\n",
            "       'housing_yes', 'loan_no', 'loan_yes', 'contact_cellular',\n",
            "       'contact_telephone', 'contact_unknown', 'month_apr', 'month_aug',\n",
            "       'month_dec', 'month_feb', 'month_jan', 'month_jul', 'month_jun',\n",
            "       'month_mar', 'month_may', 'month_nov', 'month_oct', 'month_sep',\n",
            "       'poutcome_failure', 'poutcome_other', 'poutcome_success',\n",
            "       'poutcome_unknown'],\n",
            "      dtype='object')\n"
          ]
        }
      ]
    },
    {
      "cell_type": "markdown",
      "source": [
        "#3.3. Apply **Decision tree, Random forest, kNN, NaïveBayes** to preproceed dataset in the previous steps. Then compare the obtained results using **accuracy, precision, recall, f1** measures."
      ],
      "metadata": {
        "id": "K2Si6d69d1nh"
      }
    },
    {
      "cell_type": "code",
      "source": [
        "#code\n",
        "X_train, X_test, y_train, y_test = train_test_split(dataSet.drop('deposit', axis=1), dataSet['deposit'], test_size=0.3, random_state=42)\n",
        "#Create a Random Forest Classifier\n",
        "clf_randomforest =RandomForestClassifier(n_estimators=100)\n",
        "clf_randomforest.fit(X_train,y_train) #Train the model using the training sets\n",
        "y_pred_random = clf_randomforest.predict(X_test)\n",
        "\n",
        "# GaussianNB\n",
        "model = GaussianNB()\n",
        "model.fit(X_train, y_train)\n",
        "y_pred_nb = model.predict(X_test)\n",
        "\n",
        "#Create a svm Classifier\n",
        "clf = svm.SVC(kernel='linear') # Linear Kernel\n",
        "clf.fit(X_train, y_train)#Train the model using the training sets\n",
        "y_pred_svm = clf.predict(X_test)#Predict the response for test dataset\n",
        "\n",
        "# these 3 are the columns of the table\n",
        "t = PrettyTable([' ', 'accuracy','precision','recall','f1_score'])\n",
        "#To insert rows\n",
        "t.add_row(['Random forest',accuracy_score(y_test, y_pred_random),precision_score(y_test, y_pred_random, average='macro'),recall_score(y_test, y_pred_random, average='macro'),f1_score(y_test, y_pred_random, average='macro')])\n",
        "t.add_row(['NaiveBayes',accuracy_score(y_test, y_pred_nb), precision_score(y_test, y_pred_nb, average='macro'),recall_score(y_test, y_pred_nb, average='macro'),f1_score(y_test, y_pred_nb, average='macro')])\n",
        "t.add_row(['SVM',accuracy_score(y_test, y_pred_svm), precision_score(y_test, y_pred_svm, average='macro'), recall_score(y_test, y_pred_svm, average='macro'),f1_score(y_test, y_pred_svm, average='macro')])\n",
        "print(t)"
      ],
      "metadata": {
        "id": "Ouil-cf_d8jW",
        "colab": {
          "base_uri": "https://localhost:8080/"
        },
        "outputId": "d889f56c-e42b-46ca-c401-896d902b77aa"
      },
      "execution_count": 24,
      "outputs": [
        {
          "output_type": "stream",
          "name": "stdout",
          "text": [
            "+---------------+--------------------+--------------------+--------------------+--------------------+\n",
            "|               |      accuracy      |     precision      |       recall       |      f1_score      |\n",
            "+---------------+--------------------+--------------------+--------------------+--------------------+\n",
            "| Random forest | 0.8408480143326366 | 0.8413479616890442 | 0.8417825429360783 | 0.8408296219940158 |\n",
            "|   NaiveBayes  | 0.723499552105106  | 0.7390524686347992 | 0.7177930294913828 | 0.7152210884353742 |\n",
            "|      SVM      | 0.8241266049567035 | 0.8239198625455106 |  0.82365951345184  | 0.8237730764141874 |\n",
            "+---------------+--------------------+--------------------+--------------------+--------------------+\n"
          ]
        }
      ]
    },
    {
      "cell_type": "markdown",
      "source": [
        "#3.4. Using selection feature to above dataset, then compare the classification results with those in Task 2.3. "
      ],
      "metadata": {
        "id": "SweVRB4meApP"
      }
    },
    {
      "cell_type": "code",
      "source": [
        "#code\n",
        "importances =clf_randomforest.feature_importances_\n",
        "sorted_idx = np.argsort(importances)[::-1]\n",
        "for idx in sorted_idx:\n",
        "    print(f\"{mnist.feature_names[idx]}: {importances[idx]}\")"
      ],
      "metadata": {
        "id": "seFBhqCSeC7C",
        "colab": {
          "base_uri": "https://localhost:8080/"
        },
        "outputId": "e3b340aa-1839-4047-9f4e-6e7879ae0b23"
      },
      "execution_count": 25,
      "outputs": [
        {
          "output_type": "stream",
          "name": "stdout",
          "text": [
            "pixel_0_3: 0.33244440965802874\n",
            "pixel_0_1: 0.07534443148695615\n",
            "pixel_0_0: 0.07322933281875749\n",
            "pixel_0_2: 0.06463048558262519\n",
            "pixel_0_4: 0.03436937357438783\n",
            "pixel_6_1: 0.031287361276508996\n",
            "pixel_0_5: 0.030050718421703697\n",
            "pixel_4_2: 0.02305056332452197\n",
            "pixel_0_6: 0.020148217397423077\n",
            "pixel_3_5: 0.016942246064683645\n",
            "pixel_6_2: 0.01609083666466576\n",
            "pixel_3_4: 0.015725498176266898\n",
            "pixel_4_0: 0.014193477002530956\n",
            "pixel_5_3: 0.012067196062883867\n",
            "pixel_5_5: 0.011675204853877368\n",
            "pixel_4_3: 0.011337805677765251\n",
            "pixel_5_2: 0.011251364834852121\n",
            "pixel_5_1: 0.011118597271163775\n",
            "pixel_4_4: 0.010712160542632338\n",
            "pixel_3_0: 0.00995313218623586\n",
            "pixel_5_0: 0.00971630388400813\n",
            "pixel_2_7: 0.009670797270611315\n",
            "pixel_2_4: 0.009594816462931414\n",
            "pixel_5_4: 0.009118197990369925\n",
            "pixel_2_5: 0.008939975665326907\n",
            "pixel_2_0: 0.0086387608235451\n",
            "pixel_1_0: 0.008506143188410545\n",
            "pixel_1_3: 0.008433513238536047\n",
            "pixel_4_6: 0.008429662498899615\n",
            "pixel_0_7: 0.007196300012095489\n",
            "pixel_3_7: 0.0071219542962870815\n",
            "pixel_3_6: 0.006932771832231038\n",
            "pixel_5_6: 0.006251866080087516\n",
            "pixel_2_6: 0.006190106800281764\n",
            "pixel_5_7: 0.006067081821000413\n",
            "pixel_2_3: 0.005508015098652829\n",
            "pixel_1_6: 0.005375823995193719\n",
            "pixel_4_7: 0.004954377352463207\n",
            "pixel_1_4: 0.00468666464566876\n",
            "pixel_4_1: 0.004485276844504543\n",
            "pixel_3_1: 0.00405259950153523\n",
            "pixel_1_7: 0.003942392630494622\n",
            "pixel_1_5: 0.0036938636197526424\n",
            "pixel_2_1: 0.00349026335492562\n",
            "pixel_6_0: 0.002931717210384324\n",
            "pixel_1_1: 0.0029114910927997405\n",
            "pixel_1_2: 0.002446436096136893\n",
            "pixel_4_5: 0.00170183490339277\n",
            "pixel_3_3: 0.0012561623165093729\n",
            "pixel_3_2: 0.0011579866736862348\n",
            "pixel_2_2: 0.0009744299208063837\n"
          ]
        }
      ]
    },
    {
      "cell_type": "code",
      "source": [
        "#import\n",
        "from sklearn.tree import DecisionTreeClassifier\n",
        "from sklearn.linear_model import LogisticRegression\n",
        "from sklearn.neighbors import KNeighborsClassifier"
      ],
      "metadata": {
        "id": "f-LN9aaGJJYd"
      },
      "execution_count": 34,
      "outputs": []
    },
    {
      "cell_type": "code",
      "source": [
        "sfm = SelectFromModel(clf_randomforest, threshold=0.002)\n",
        "X_train = sfm.fit_transform(X_train, y_train)\n",
        "X_test = sfm.transform(X_test)\n",
        "\n",
        "#Create a Random Forest Classifier\n",
        "clf_randomforest =RandomForestClassifier(n_estimators=100)\n",
        "clf_randomforest.fit(X_train,y_train) #Train the model using the training sets\n",
        "y_pred_random = clf_randomforest.predict(X_test)\n",
        "\n",
        "# GaussianNB\n",
        "model = GaussianNB()\n",
        "model.fit(X_train, y_train)\n",
        "y_pred_nb = model.predict(X_test)\n",
        "\n",
        "#Create a svm Classifier\n",
        "clf = svm.SVC(kernel='linear') # Linear Kernel\n",
        "clf.fit(X_train, y_train)#Train the model using the training sets\n",
        "y_pred_svm = clf.predict(X_test)#Predict the response for test dataset\n",
        "\n",
        "#Decision Tree\n",
        "clf_model = DecisionTreeClassifier(criterion=\"gini\", random_state=42,\n",
        "max_depth=3, min_samples_leaf=5) \n",
        "clf_model.fit(X_train,y_train)\n",
        "y_predict_tree = clf_model.predict(X_test)\n",
        "\n",
        "# these 3 are the columns of the table\n",
        "t = PrettyTable([' ', 'accuracy','precision','recall','f1_score'])\n",
        "#To insert rows\n",
        "t.add_row(['Random forest',accuracy_score(y_test, y_pred_random),precision_score(y_test, y_pred_random, average='macro'),recall_score(y_test, y_pred_random, average='macro'),f1_score(y_test, y_pred_random, average='macro')])\n",
        "t.add_row(['NaiveBayes',accuracy_score(y_test, y_pred_nb), precision_score(y_test, y_pred_nb, average='macro'),recall_score(y_test, y_pred_nb, average='macro'),f1_score(y_test, y_pred_nb, average='macro')])\n",
        "t.add_row(['SVM',accuracy_score(y_test, y_pred_svm), precision_score(y_test, y_pred_svm, average='macro'), recall_score(y_test, y_pred_svm, average='macro'),f1_score(y_test, y_pred_svm, average='macro')])\n",
        "t.add_row(['Decision Tree', accuracy_score(y_test, y_predict_tree),precision_score(y_test, y_predict_tree, average='macro', zero_division=1),recall_score(y_test, y_predict_tree, average='macro'),f1_score(y_test, y_predict_tree, average='macro')])\n",
        "\n",
        "print(t)"
      ],
      "metadata": {
        "colab": {
          "base_uri": "https://localhost:8080/"
        },
        "id": "TeKMhD0F3QVg",
        "outputId": "d9373ef8-7b59-43e5-b620-e3227944966d"
      },
      "execution_count": 26,
      "outputs": [
        {
          "output_type": "stream",
          "name": "stdout",
          "text": [
            "+---------------+--------------------+--------------------+--------------------+--------------------+\n",
            "|               |      accuracy      |     precision      |       recall       |      f1_score      |\n",
            "+---------------+--------------------+--------------------+--------------------+--------------------+\n",
            "| Random forest | 0.8456255598686175 | 0.8462505851826055 | 0.8466402014150205 | 0.8456131712620557 |\n",
            "|   NaiveBayes  | 0.7273813078530905 | 0.7398445403681496 | 0.7222236312573365 | 0.7204861449156125 |\n",
            "|      SVM      | 0.8247237981487011 | 0.8244920630154966 | 0.824305903349082  | 0.8243900456340778 |\n",
            "| Decision Tree | 0.7796357121528814 | 0.7799244167174955 | 0.7803379945802555 | 0.7795923019136062 |\n",
            "+---------------+--------------------+--------------------+--------------------+--------------------+\n"
          ]
        }
      ]
    },
    {
      "cell_type": "markdown",
      "source": [
        "#Task 4. \n",
        "For a given dataset in the Lab #5 (**credit card dataset**), perform feature selection and thencompare the performance of selected classification algorithms (Decision Tree, kNN, Logistic Regression, SVM, Random Forest and NaiveBayes) based on accuracy, precision, recall, f1 measures.\n"
      ],
      "metadata": {
        "id": "Z5pp7_h-aP2u"
      }
    },
    {
      "cell_type": "code",
      "source": [
        "# code\n",
        "dataSet = pd.read_csv(\"creditcard.csv\")\n",
        "\n",
        "X = dataSet.drop('Class', axis =1)\n",
        "y = dataSet['Class']\n",
        "#Chuan hoa du lieu\n",
        "scaler = StandardScaler()\n",
        "X_scaler = scaler.fit_transform(X)\n",
        "X_train, X_test, y_train, y_test = train_test_split(X_scaler, y, test_size = 0.3)\n",
        "\n",
        "#logistic regression\n",
        "logreg = LogisticRegression(max_iter=1000)\n",
        "logreg.fit(X_train, y_train)\n",
        "y_pred_logreg = logreg.predict(X_test)\n",
        "\n",
        "#Knn Regression\n",
        "#k=1\n",
        "knn = KNeighborsClassifier(n_neighbors=5)\n",
        "knn.fit(X_train, y_train)\n",
        "y_pred_knn = knn.predict(X_test)\n",
        "\n",
        "#Decision Tree\n",
        "clf_model = DecisionTreeClassifier(criterion=\"gini\", random_state=42,\n",
        "max_depth=3, min_samples_leaf=5) \n",
        "clf_model.fit(X_train,y_train)\n",
        "y_predict_tree = clf_model.predict(X_test)\n",
        "\n",
        "#Create a Random Forest Classifier\n",
        "clf_randomforest =RandomForestClassifier(n_estimators=100)\n",
        "clf_randomforest.fit(X_train,y_train) #Train the model using the training sets\n",
        "y_pred_random = clf_randomforest.predict(X_test)\n",
        "\n",
        "# GaussianNB\n",
        "model = GaussianNB()\n",
        "model.fit(X_train, y_train)\n",
        "y_pred_nb = model.predict(X_test)\n",
        "\n",
        "#Create a svm Classifier\n",
        "clf = svm.SVC(kernel='linear') # Linear Kernel\n",
        "clf.fit(X_train, y_train)#Train the model using the training sets\n",
        "y_pred_svm = clf.predict(X_test)#Predict the response for test dataset\n",
        "\n",
        "# these 3 are the columns of the table\n",
        "t = PrettyTable([' ', 'accuracy','precision','recall','f1_score'])\n",
        "#To insert rows\n",
        "t.add_row(['SVM',accuracy_score(y_test, y_pred_svm),precision_score(y_test, y_pred_svm, average='macro'),recall_score(y_test, y_pred_svm, average='macro'),f1_score(y_test, y_pred_svm, average='macro')])\n",
        "t.add_row(['KNN',accuracy_score(y_test, y_pred_knn), precision_score(y_test, y_pred_knn, average='macro'),recall_score(y_test, y_pred_knn, average='macro'),f1_score(y_test, y_pred_knn, average='macro')])\n",
        "t.add_row(['Logistic Regression',accuracy_score(y_test, y_pred_logreg), precision_score(y_test, y_pred_logreg, average='macro'), recall_score(y_test, y_pred_logreg, average='macro'),f1_score(y_test, y_pred_logreg, average='macro')])\n",
        "t.add_row(['Random forest',accuracy_score(y_test, y_pred_random),precision_score(y_test, y_pred_random, average='macro'),recall_score(y_test, y_pred_random, average='macro'),f1_score(y_test, y_pred_random, average='macro')])\n",
        "t.add_row(['NaiveBayes',accuracy_score(y_test, y_pred_nb), precision_score(y_test, y_pred_nb, average='macro'),recall_score(y_test, y_pred_nb, average='macro'),f1_score(y_test, y_pred_nb, average='macro')])\n",
        "t.add_row(['Decision Tree', accuracy_score(y_test, y_predict_tree),precision_score(y_test, y_predict_tree, average='macro'),recall_score(y_test, y_predict_tree, average='macro'),f1_score(y_test, y_predict_tree, average='macro')])\n",
        "print(t)"
      ],
      "metadata": {
        "id": "Rw_-8FIf2KxW",
        "colab": {
          "base_uri": "https://localhost:8080/"
        },
        "outputId": "d1c55735-68c9-4966-daed-5449d819ed80"
      },
      "execution_count": 30,
      "outputs": [
        {
          "output_type": "stream",
          "name": "stdout",
          "text": [
            "+---------------------+--------------------+--------------------+--------------------+--------------------+\n",
            "|                     |      accuracy      |     precision      |       recall       |      f1_score      |\n",
            "+---------------------+--------------------+--------------------+--------------------+--------------------+\n",
            "|         SVM         | 0.9993445923013002 | 0.9143869438509599 | 0.9092167035048017 | 0.9117855281310923 |\n",
            "|         KNN         | 0.9994616293903538 | 0.9593536820990485 | 0.8905605088352896 | 0.9221624711058442 |\n",
            "| Logistic Regression | 0.9991222218320986 | 0.9224360513647331 | 0.8248886061700456 | 0.8672713575163415 |\n",
            "|    Random forest    | 0.9995435553526912 | 0.9772501967613912 | 0.896839823001067  | 0.9333327918239988 |\n",
            "|      NaiveBayes     | 0.976896878620835  | 0.5322396815024735 | 0.9104483381799421 | 0.5543077932324697 |\n",
            "|    Decision Tree    | 0.9992626663389628 | 0.9242142532808603 | 0.8686268805037347 | 0.8944641729218565 |\n",
            "+---------------------+--------------------+--------------------+--------------------+--------------------+\n"
          ]
        }
      ]
    },
    {
      "cell_type": "code",
      "source": [
        "#importances\n",
        "importances =clf_randomforest.feature_importances_\n",
        "sorted_idx = np.argsort(importances)[::-1]\n",
        "for idx in sorted_idx:\n",
        "    print(f\"{mnist.feature_names[idx]}: {importances[idx]}\")"
      ],
      "metadata": {
        "colab": {
          "base_uri": "https://localhost:8080/"
        },
        "id": "vNaO99_fCXqp",
        "outputId": "f21f5d42-a379-43e0-e9f9-433e069af684"
      },
      "execution_count": 31,
      "outputs": [
        {
          "output_type": "stream",
          "name": "stdout",
          "text": [
            "pixel_2_1: 0.20134916846864515\n",
            "pixel_1_4: 0.13359421890031364\n",
            "pixel_1_6: 0.11564176500687483\n",
            "pixel_2_0: 0.07339976292878277\n",
            "pixel_1_2: 0.06391765648849144\n",
            "pixel_1_3: 0.0380290035579875\n",
            "pixel_0_4: 0.03569677357663416\n",
            "pixel_2_2: 0.03362052489427895\n",
            "pixel_1_1: 0.032567666974039414\n",
            "pixel_0_7: 0.022874873281343317\n",
            "pixel_0_3: 0.022300439952393433\n",
            "pixel_3_2: 0.017240375350559087\n",
            "pixel_0_0: 0.01578770351916169\n",
            "pixel_0_1: 0.014696587158571509\n",
            "pixel_2_5: 0.014292538894758247\n",
            "pixel_0_6: 0.014092253519678993\n",
            "pixel_0_2: 0.01387384048252671\n",
            "pixel_2_3: 0.012043053653852987\n",
            "pixel_2_4: 0.011951276128827052\n",
            "pixel_3_3: 0.011905419814677487\n",
            "pixel_1_5: 0.011765812595437205\n",
            "pixel_3_5: 0.011371414314183988\n",
            "pixel_0_5: 0.010985895672032628\n",
            "pixel_1_0: 0.010531096345787312\n",
            "pixel_3_0: 0.010340094454100095\n",
            "pixel_2_6: 0.010338521471868787\n",
            "pixel_3_4: 0.010229642202519821\n",
            "pixel_1_7: 0.009914174331034226\n",
            "pixel_3_1: 0.009776446425049256\n",
            "pixel_2_7: 0.005871999635588072\n"
          ]
        }
      ]
    },
    {
      "cell_type": "code",
      "source": [
        "sfm = SelectFromModel(clf_randomforest, threshold=0.002)\n",
        "X_train = sfm.fit_transform(X_train, y_train)\n",
        "X_test = sfm.transform(X_test)\n",
        "\n",
        "#Create a Random Forest Classifier\n",
        "clf_randomforest =RandomForestClassifier(n_estimators=100)\n",
        "clf_randomforest.fit(X_train,y_train) #Train the model using the training sets\n",
        "y_pred_random = clf_randomforest.predict(X_test)\n",
        "\n",
        "# GaussianNB\n",
        "model = GaussianNB()\n",
        "model.fit(X_train, y_train)\n",
        "y_pred_nb = model.predict(X_test)\n",
        "\n",
        "#Create a svm Classifier\n",
        "clf = svm.SVC(kernel='linear') # Linear Kernel\n",
        "clf.fit(X_train, y_train)#Train the model using the training sets\n",
        "y_pred_svm = clf.predict(X_test)#Predict the response for test dataset\n",
        "\n",
        "#Decision Tree\n",
        "clf_model = DecisionTreeClassifier(criterion=\"gini\", random_state=42,\n",
        "max_depth=3, min_samples_leaf=5) \n",
        "clf_model.fit(X_train,y_train)\n",
        "y_predict_tree = clf_model.predict(X_test)\n",
        "\n",
        "#logistic regression\n",
        "logreg = LogisticRegression(max_iter=1000)\n",
        "logreg.fit(X_train, y_train)\n",
        "y_pred_logreg = logreg.predict(X_test)\n",
        "\n",
        "#Knn Regression\n",
        "#k=1\n",
        "knn = KNeighborsClassifier(n_neighbors=5)\n",
        "knn.fit(X_train, y_train)\n",
        "y_pred_knn = knn.predict(X_test)\n",
        "\n",
        "# these 3 are the columns of the table\n",
        "t = PrettyTable([' ', 'accuracy','precision','recall','f1_score'])\n",
        "#To insert rows\n",
        "t.add_row(['SVM',accuracy_score(y_test, y_pred_svm),precision_score(y_test, y_pred_svm, average='macro'),recall_score(y_test, y_pred_svm, average='macro'),f1_score(y_test, y_pred_svm, average='macro')])\n",
        "t.add_row(['KNN',accuracy_score(y_test, y_pred_knn), precision_score(y_test, y_pred_knn, average='macro'),recall_score(y_test, y_pred_knn, average='macro'),f1_score(y_test, y_pred_knn, average='macro')])\n",
        "t.add_row(['Logistic Regression',accuracy_score(y_test, y_pred_logreg), precision_score(y_test, y_pred_logreg, average='macro'), recall_score(y_test, y_pred_logreg, average='macro'),f1_score(y_test, y_pred_logreg, average='macro')])\n",
        "t.add_row(['Random forest',accuracy_score(y_test, y_pred_random),precision_score(y_test, y_pred_random, average='macro'),recall_score(y_test, y_pred_random, average='macro'),f1_score(y_test, y_pred_random, average='macro')])\n",
        "t.add_row(['NaiveBayes',accuracy_score(y_test, y_pred_nb), precision_score(y_test, y_pred_nb, average='macro'),recall_score(y_test, y_pred_nb, average='macro'),f1_score(y_test, y_pred_nb, average='macro')])\n",
        "t.add_row(['Decision Tree', accuracy_score(y_test, y_predict_tree),precision_score(y_test, y_predict_tree, average='macro'),recall_score(y_test, y_predict_tree, average='macro'),f1_score(y_test, y_predict_tree, average='macro')])\n",
        "print(t)"
      ],
      "metadata": {
        "colab": {
          "base_uri": "https://localhost:8080/"
        },
        "id": "X6pVhFduCeOq",
        "outputId": "d44174a0-9abd-4687-d357-0b45c44cc55c"
      },
      "execution_count": 32,
      "outputs": [
        {
          "output_type": "stream",
          "name": "stdout",
          "text": [
            "+---------------------+--------------------+--------------------+--------------------+--------------------+\n",
            "|                     |      accuracy      |     precision      |       recall       |      f1_score      |\n",
            "+---------------------+--------------------+--------------------+--------------------+--------------------+\n",
            "|         SVM         | 0.9993445923013002 | 0.9143869438509599 | 0.9092167035048017 | 0.9117855281310923 |\n",
            "|         KNN         | 0.9994616293903538 | 0.9593536820990485 | 0.8905605088352896 | 0.9221624711058442 |\n",
            "| Logistic Regression | 0.9991222218320986 | 0.9224360513647331 | 0.8248886061700456 | 0.8672713575163415 |\n",
            "|    Random forest    | 0.9995318516437859 | 0.9736871824865638 | 0.8968339601679115 | 0.9318555503236747 |\n",
            "|      NaiveBayes     | 0.976896878620835  | 0.5322396815024735 | 0.9104483381799421 | 0.5543077932324697 |\n",
            "|    Decision Tree    | 0.9992626663389628 | 0.9242142532808603 | 0.8686268805037347 | 0.8944641729218565 |\n",
            "+---------------------+--------------------+--------------------+--------------------+--------------------+\n"
          ]
        }
      ]
    },
    {
      "cell_type": "markdown",
      "source": [
        "#Finally,\n",
        "Save a copy in your Github. Remember renaming the notebook."
      ],
      "metadata": {
        "id": "Ok7RGkea_b7n"
      }
    }
  ]
}
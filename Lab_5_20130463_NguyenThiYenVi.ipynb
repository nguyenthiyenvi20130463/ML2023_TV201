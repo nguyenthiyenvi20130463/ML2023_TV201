{
  "nbformat": 4,
  "nbformat_minor": 0,
  "metadata": {
    "colab": {
      "provenance": [],
      "include_colab_link": true
    },
    "kernelspec": {
      "name": "python3",
      "display_name": "Python 3"
    },
    "language_info": {
      "name": "python"
    }
  },
  "cells": [
    {
      "cell_type": "markdown",
      "metadata": {
        "id": "view-in-github",
        "colab_type": "text"
      },
      "source": [
        "<a href=\"https://colab.research.google.com/github/nguyenthiyenvi20130463/ML2023_TV201/blob/main/Lab_5_20130463_NguyenThiYenVi.ipynb\" target=\"_parent\"><img src=\"https://colab.research.google.com/assets/colab-badge.svg\" alt=\"Open In Colab\"/></a>"
      ]
    },
    {
      "cell_type": "markdown",
      "source": [
        "# This lab is to deal with **SVM** to classification tasks and compare its performance with other competitive algorithms. In general, **SVM** is one of the most popular and widely used supervised machine learning algorithms.\n",
        "\n",
        "*   **Deadline: 23:59, 17/03/2023**\n",
        "\n"
      ],
      "metadata": {
        "id": "LMzehe0sy5wr"
      }
    },
    {
      "cell_type": "markdown",
      "source": [
        "# Import libraries"
      ],
      "metadata": {
        "id": "H4nJmxp9zGX4"
      }
    },
    {
      "cell_type": "code",
      "execution_count": 2,
      "metadata": {
        "id": "DoVWQ8AEyc-C",
        "colab": {
          "base_uri": "https://localhost:8080/"
        },
        "outputId": "6b52bdde-5bc3-4dd6-df9d-99f8577d4f37"
      },
      "outputs": [
        {
          "output_type": "stream",
          "name": "stdout",
          "text": [
            "Drive already mounted at /content/gdrive; to attempt to forcibly remount, call drive.mount(\"/content/gdrive\", force_remount=True).\n",
            "/content/gdrive/MyDrive/ML2023\n"
          ]
        }
      ],
      "source": [
        "# code\n",
        "from google.colab import drive\n",
        "drive.mount('/content/gdrive')\n",
        "%cd '/content/gdrive/MyDrive/ML2023'\n",
        "\n"
      ]
    },
    {
      "cell_type": "markdown",
      "source": [
        "#Task 1. \n",
        "For breast cancer dataset (https://tinyurl.com/3vme8hr3) which could be loaded from datasets in sklearn as follows:\n",
        "\n",
        "```\n",
        "#Import scikit-learn dataset library\n",
        "from sklearn import datasets\n",
        "\n",
        "#Load dataset\n",
        "cancer = datasets.load_breast_cancer()\n",
        "```\n",
        "\n",
        "*   1.1.\tApply SVM algorithm to above dataset using linear kernel.\n",
        "*   1.2.\tCompare the obtained results with other competitive algorithms (Logistic Regression, Decision Tree, kNN) based on metrics: accuracy, precision, recall, f1 measures.\n",
        "\n"
      ],
      "metadata": {
        "id": "kNv07ARGzOUm"
      }
    },
    {
      "cell_type": "code",
      "source": [
        "#import\n",
        "from prettytable import PrettyTable\n",
        "from sklearn import datasets\n",
        "from sklearn.metrics import accuracy_score\n",
        "from sklearn.metrics import confusion_matrix\n",
        "from sklearn.preprocessing import StandardScaler\n",
        "from sklearn.model_selection import train_test_split\n",
        "from sklearn import svm\n",
        "from sklearn.tree import DecisionTreeClassifier\n",
        "from sklearn.linear_model import LogisticRegression\n",
        "from sklearn.neighbors import KNeighborsClassifier\n",
        "from sklearn.metrics import accuracy_score, precision_score, recall_score, f1_score"
      ],
      "metadata": {
        "id": "XHNRO_xEpw1t"
      },
      "execution_count": 3,
      "outputs": []
    },
    {
      "cell_type": "code",
      "source": [
        "# code\n",
        "#load data\n",
        "cancer = datasets.load_breast_cancer()\n",
        "X = cancer.data\n",
        "y = cancer.target\n",
        "# chuan hoa data\n",
        "scaler = StandardScaler()\n",
        "X_scaled = scaler.fit_transform(X)\n",
        "X_train, X_test, y_train, y_test = train_test_split(X_scaled, y,test_size =0.3)\n",
        "#Create a svm Classifier\n",
        "clf = svm.SVC(kernel='linear') # Linear Kernel\n",
        "#Train the model using the training sets\n",
        "clf.fit(X_train, y_train)\n",
        "#Predict the response for test dataset\n",
        "y_pred_svm = clf.predict(X_test)\n",
        "#logistic regression\n",
        "logreg = LogisticRegression(max_iter=1000)\n",
        "logreg.fit(X_train, y_train)\n",
        "y_pred_logreg = logreg.predict(X_test)\n",
        "#Knn Regression\n",
        "#k=1\n",
        "knn = KNeighborsClassifier(n_neighbors=5)\n",
        "knn.fit(X_train, y_train)\n",
        "y_pred_knn = knn.predict(X_test)\n",
        "#Decision Tree\n",
        "clf_model = DecisionTreeClassifier(criterion=\"gini\", random_state=42,\n",
        "max_depth=3, min_samples_leaf=5) \n",
        "clf_model.fit(X_train,y_train)\n",
        "y_predict_tree = clf_model.predict(X_test)\n",
        "\n",
        "# these 3 are the columns of the table\n",
        "t = PrettyTable([' ', 'accuracy','precision','recall','f1_score'])\n",
        "#To insert rows\n",
        "t.add_row(['SVM',accuracy_score(y_test, y_pred_svm),precision_score(y_test, y_pred_svm, average='macro'),recall_score(y_test, y_pred_svm, average='macro'),f1_score(y_test, y_pred_svm, average='macro')])\n",
        "t.add_row(['KNN',accuracy_score(y_test, y_pred_knn), precision_score(y_test, y_pred_knn, average='macro'),recall_score(y_test, y_pred_knn, average='macro'),f1_score(y_test, y_pred_knn, average='macro')])\n",
        "t.add_row(['Logistic Regression',accuracy_score(y_test, y_pred_logreg), precision_score(y_test, y_pred_logreg, average='macro'), recall_score(y_test, y_pred_logreg, average='macro'),f1_score(y_test, y_pred_logreg, average='macro')])\n",
        "t.add_row(['Decision Tree', accuracy_score(y_test, y_predict_tree),precision_score(y_test, y_predict_tree, average='macro'),recall_score(y_test, y_predict_tree, average='macro'),f1_score(y_test, y_predict_tree, average='macro')])\n",
        "print(t)"
      ],
      "metadata": {
        "id": "sOsg77IBzEyo",
        "colab": {
          "base_uri": "https://localhost:8080/"
        },
        "outputId": "66de1fe3-2f37-4387-dd31-622d0eec23bb"
      },
      "execution_count": 9,
      "outputs": [
        {
          "output_type": "stream",
          "name": "stdout",
          "text": [
            "+---------------------+--------------------+--------------------+--------------------+--------------------+\n",
            "|                     |      accuracy      |     precision      |       recall       |      f1_score      |\n",
            "+---------------------+--------------------+--------------------+--------------------+--------------------+\n",
            "|         SVM         | 0.9707602339181286 | 0.9734397677793905 | 0.9657338663620788 | 0.9692412850307588 |\n",
            "|         KNN         | 0.9649122807017544 | 0.9658008658008659 |  0.96087949743004  | 0.9631888633754306 |\n",
            "| Logistic Regression | 0.9824561403508771 | 0.9858490566037736 | 0.9779411764705883 | 0.9815447710184552 |\n",
            "|    Decision Tree    | 0.935672514619883  | 0.9426974664679583 | 0.924114791547687  | 0.9315427448411399 |\n",
            "+---------------------+--------------------+--------------------+--------------------+--------------------+\n"
          ]
        }
      ]
    },
    {
      "cell_type": "markdown",
      "source": [
        "#Task 2. \n",
        "\n",
        "*   1.1.\tPerform SVM algorithm to **Iris dataset** using **linear kernel**.\n",
        "*   1.2.\tCompare the obtained results in 1.1 with SVM using other kernels (**Polynomial Kernel, Gaussian Kernel, Sigmoid Kernel, Radial Basis Function Kernel**). Some metrics could be used: accuracy, precision, recall, f1 measures\n",
        "\n",
        "\n",
        "\n"
      ],
      "metadata": {
        "id": "S43IoUT-0OQq"
      }
    },
    {
      "cell_type": "code",
      "source": [
        "#import\n",
        "from sklearn.datasets import load_iris\n"
      ],
      "metadata": {
        "id": "BRCkHQNf3M1w"
      },
      "execution_count": 4,
      "outputs": []
    },
    {
      "cell_type": "code",
      "source": [
        "# code\n",
        "#load data\n",
        "iris = load_iris()\n",
        "X = iris.data\n",
        "y = iris.target\n",
        "#chuan hoa data\n",
        "scaler = StandardScaler()\n",
        "X_scaler = scaler.fit_transform(X)\n",
        "X_train, X_test, y_train, y_test = train_test_split(X_scaler, y, test_size = 0.3)\n",
        "#Create a svm Classifier\n",
        "clf = svm.SVC(kernel='linear') # Linear Kernel\n",
        "#Train the model using the training sets\n",
        "clf.fit(X_train, y_train)\n",
        "#Predict the response for test dataset\n",
        "y_pred_linear = clf.predict(X_test)\n",
        "#Create a svm Classifier\n",
        "clf = svm.SVC(kernel='poly') # Polynomial Kernel\n",
        "clf.fit(X_train, y_train)\n",
        "y_pred_poly = clf.predict(X_test)\n",
        "#Create a svm Classifier\n",
        "clf = svm.SVC(kernel='rbf') # Radial Basis Function Kernel\n",
        "clf.fit(X_train, y_train)\n",
        "y_pred_rbf = clf.predict(X_test)\n",
        "#Create a svm Classifier\n",
        "clf = svm.SVC(kernel='sigmoid') # Sigmoid Kernel\n",
        "clf.fit(X_train, y_train)\n",
        "y_pred_sigmoid = clf.predict(X_test)\n",
        "\n",
        "t = PrettyTable([' ', 'accuracy','precision','recall','f1_score'])\n",
        "#To insert rows\n",
        "t.add_row(['Linear',accuracy_score(y_test, y_pred_linear),precision_score(y_test, y_pred_linear, average='macro'),recall_score(y_test, y_pred_linear, average='macro'),f1_score(y_test, y_pred_linear, average='macro')])\n",
        "t.add_row(['Polynomial',accuracy_score(y_test, y_pred_poly), precision_score(y_test, y_pred_poly, average='macro'),recall_score(y_test, y_pred_poly, average='macro'),f1_score(y_test, y_pred_poly, average='macro')])\n",
        "t.add_row(['Radial Basis Function',accuracy_score(y_test, y_pred_rbf), precision_score(y_test, y_pred_rbf, average='macro'), recall_score(y_test, y_pred_rbf, average='macro'),f1_score(y_test, y_pred_rbf, average='macro')])\n",
        "t.add_row(['Sigmoid', accuracy_score(y_test, y_pred_sigmoid),precision_score(y_test, y_pred_sigmoid, average='macro'),recall_score(y_test, y_pred_sigmoid, average='macro'),f1_score(y_test, y_pred_sigmoid, average='macro')])\n",
        "print(t)"
      ],
      "metadata": {
        "id": "_xhPpF5b033h",
        "colab": {
          "base_uri": "https://localhost:8080/"
        },
        "outputId": "26334e7a-292a-45f3-f19f-6b12aa274189"
      },
      "execution_count": 11,
      "outputs": [
        {
          "output_type": "stream",
          "name": "stdout",
          "text": [
            "+-----------------------+--------------------+--------------------+--------------------+--------------------+\n",
            "|                       |      accuracy      |     precision      |       recall       |      f1_score      |\n",
            "+-----------------------+--------------------+--------------------+--------------------+--------------------+\n",
            "|         Linear        | 0.9333333333333333 | 0.9421296296296297 | 0.9411764705882352 | 0.9411255411255411 |\n",
            "|       Polynomial      | 0.8444444444444444 | 0.9027777777777778 | 0.8627450980392157 | 0.856669677807889  |\n",
            "| Radial Basis Function | 0.9555555555555556 | 0.9607843137254902 | 0.9607843137254902 | 0.9607843137254902 |\n",
            "|        Sigmoid        | 0.8888888888888888 | 0.9095238095238095 | 0.9019607843137255 |  0.90119151409474  |\n",
            "+-----------------------+--------------------+--------------------+--------------------+--------------------+\n"
          ]
        }
      ]
    },
    {
      "cell_type": "markdown",
      "source": [
        "#Task 3. \n",
        "Compare the performance of selected classification algorithms (Decision Tree, kNN, Logistic Regression) and SVM (using different kernels) with mnist dataset based on accuracy, precision, recall, f1 measures.\n"
      ],
      "metadata": {
        "id": "b52OPWPD2afi"
      }
    },
    {
      "cell_type": "code",
      "source": [
        "#import\n",
        "from sklearn import datasets\n",
        "from sklearn.datasets import load_digits\n"
      ],
      "metadata": {
        "id": "BQdaYFAm-7Ud"
      },
      "execution_count": 5,
      "outputs": []
    },
    {
      "cell_type": "code",
      "source": [
        "# code\n",
        "#load data\n",
        "mnist = datasets.load_digits()\n",
        "X = mnist.data\n",
        "y = mnist.target\n",
        "# chuan hoa data\n",
        "scaler = StandardScaler()\n",
        "X_scaled = scaler.fit_transform(X)\n",
        "X_train, X_test, y_train, y_test = train_test_split(X_scaled, y,test_size =0.3)\n",
        "#Create a svm Classifier\n",
        "clf = svm.SVC(kernel='linear') # Linear Kernel\n",
        "#Train the model using the training sets\n",
        "clf.fit(X_train, y_train)\n",
        "#Predict the response for test dataset\n",
        "y_pred_linear = clf.predict(X_test)\n",
        "#Create a svm Classifier\n",
        "clf = svm.SVC(kernel='poly') # Polynomial Kernel\n",
        "clf.fit(X_train, y_train)\n",
        "y_pred_poly = clf.predict(X_test)\n",
        "#Create a svm Classifier\n",
        "clf = svm.SVC(kernel='rbf') # Radial Basis Function Kernel\n",
        "clf.fit(X_train, y_train)\n",
        "y_pred_rbf = clf.predict(X_test)\n",
        "#Create a svm Classifier\n",
        "clf = svm.SVC(kernel='sigmoid') # Sigmoid Kernel\n",
        "clf.fit(X_train, y_train)\n",
        "y_pred_sigmoid = clf.predict(X_test)\n",
        "#logistic regression\n",
        "logreg = LogisticRegression(max_iter=1000)\n",
        "logreg.fit(X_train, y_train)\n",
        "y_pred_logreg = logreg.predict(X_test)\n",
        "#Knn Regression\n",
        "#k=1\n",
        "knn = KNeighborsClassifier(n_neighbors=5)\n",
        "knn.fit(X_train, y_train)\n",
        "y_pred_knn = knn.predict(X_test)\n",
        "#Decision Tree\n",
        "clf_model = DecisionTreeClassifier(criterion=\"gini\", random_state=42,\n",
        "max_depth=3, min_samples_leaf=5) \n",
        "clf_model.fit(X_train,y_train)\n",
        "y_predict_tree = clf_model.predict(X_test)\n",
        "\n",
        "t = PrettyTable([' ', 'accuracy','precision','recall','f1_score'])\n",
        "#To insert rows\n",
        "t.add_row(['Linear',accuracy_score(y_test, y_pred_linear),precision_score(y_test, y_pred_linear, average='macro',zero_division=1),recall_score(y_test, y_pred_linear, average='macro'),f1_score(y_test, y_pred_linear, average='macro')])\n",
        "t.add_row(['Polynomial',accuracy_score(y_test, y_pred_poly), precision_score(y_test, y_pred_poly, average='macro', zero_division=1),recall_score(y_test, y_pred_poly, average='macro'),f1_score(y_test, y_pred_poly, average='macro')])\n",
        "t.add_row(['Radial Basis Function',accuracy_score(y_test, y_pred_rbf), precision_score(y_test, y_pred_rbf, average='macro', zero_division=1), recall_score(y_test, y_pred_rbf, average='macro'),f1_score(y_test, y_pred_rbf, average='macro')])\n",
        "t.add_row(['Sigmoid', accuracy_score(y_test, y_pred_sigmoid),precision_score(y_test, y_pred_sigmoid, average='macro', zero_division=1),recall_score(y_test, y_pred_sigmoid, average='macro'),f1_score(y_test, y_pred_sigmoid, average='macro')])\n",
        "t.add_row(['KNN',accuracy_score(y_test, y_pred_knn), precision_score(y_test, y_pred_knn, average='macro', zero_division=1),recall_score(y_test, y_pred_knn, average='macro'),f1_score(y_test, y_pred_knn, average='macro')])\n",
        "t.add_row(['Logistic Regression',accuracy_score(y_test, y_pred_logreg), precision_score(y_test, y_pred_logreg, average='macro', zero_division=1), recall_score(y_test, y_pred_logreg, average='macro'),f1_score(y_test, y_pred_logreg, average='macro')])\n",
        "t.add_row(['Decision Tree', accuracy_score(y_test, y_predict_tree),precision_score(y_test, y_predict_tree, average='macro', zero_division=1),recall_score(y_test, y_predict_tree, average='macro'),f1_score(y_test, y_predict_tree, average='macro')])\n",
        "print(t)"
      ],
      "metadata": {
        "id": "oAf8hQcc-5l2",
        "colab": {
          "base_uri": "https://localhost:8080/"
        },
        "outputId": "a3bc3b3e-65c4-4326-a01d-abe3e1873b4f"
      },
      "execution_count": 7,
      "outputs": [
        {
          "output_type": "stream",
          "name": "stdout",
          "text": [
            "+-----------------------+---------------------+--------------------+---------------------+---------------------+\n",
            "|                       |       accuracy      |     precision      |        recall       |       f1_score      |\n",
            "+-----------------------+---------------------+--------------------+---------------------+---------------------+\n",
            "|         Linear        |  0.9777777777777777 | 0.9789559274524209 |  0.9779752986231939 |  0.9783473797287889 |\n",
            "|       Polynomial      |  0.9555555555555556 | 0.967044695071011  |  0.9542682678173897 |  0.9570983294213058 |\n",
            "| Radial Basis Function |  0.9851851851851852 | 0.9859236762436646 |  0.9854261953173749 |  0.9855900849648542 |\n",
            "|        Sigmoid        |         0.95        | 0.9519446474476709 |  0.9492877898301737 |  0.9501083428360662 |\n",
            "|          KNN          |  0.9851851851851852 | 0.9856999574534939 |  0.9853959472834971 |  0.9854445878398825 |\n",
            "|  Logistic Regression  |  0.9666666666666667 | 0.9680429792880751 |  0.9668615595525581 |  0.9670130694352064 |\n",
            "|     Decision Tree     | 0.46111111111111114 | 0.7948602393053072 | 0.45742313961603137 | 0.38710647048116215 |\n",
            "+-----------------------+---------------------+--------------------+---------------------+---------------------+\n"
          ]
        }
      ]
    },
    {
      "cell_type": "markdown",
      "source": [
        "#Task 4. \n",
        "Compare the performance of selected classification algorithms (Decision Tree, kNN, Logistic Regression) and SVM (using different kernels) with **credit card dataset** based on accuracy, precision, recall, f1 measures.\n",
        "\n",
        "*   Give some comments on the obtained results\n",
        "*   Identify issues with dataset, and propose the solutions to these issues\n",
        "\n"
      ],
      "metadata": {
        "id": "Z5pp7_h-aP2u"
      }
    },
    {
      "cell_type": "code",
      "source": [
        "#import\n",
        "import pandas as pd"
      ],
      "metadata": {
        "id": "2hTzjmBLorO2"
      },
      "execution_count": 6,
      "outputs": []
    },
    {
      "cell_type": "code",
      "source": [
        "# code\n",
        "dataSet = pd.read_csv(\"creditcard.csv\")\n",
        "dataSet = dataSet.head(10000)\n",
        "X = dataSet.drop('Class', axis =1)\n",
        "y = dataSet['Class']\n",
        "#Chuan hoa du lieu\n",
        "scaler = StandardScaler()\n",
        "X_scaler = scaler.fit_transform(X)\n",
        "X_train, X_test, y_train, y_test = train_test_split(X_scaler, y, test_size = 0.3)\n",
        "\n",
        "#logistic regression\n",
        "logreg = LogisticRegression(max_iter=1000)\n",
        "logreg.fit(X_train, y_train)\n",
        "y_pred_logreg = logreg.predict(X_test)\n",
        "#Knn Regression\n",
        "#k=1\n",
        "knn = KNeighborsClassifier(n_neighbors=5)\n",
        "knn.fit(X_train, y_train)\n",
        "y_pred_knn = knn.predict(X_test)\n",
        "#Decision Tree\n",
        "clf_model = DecisionTreeClassifier(criterion=\"gini\", random_state=42,\n",
        "max_depth=3, min_samples_leaf=5) \n",
        "clf_model.fit(X_train,y_train)\n",
        "y_predict_tree = clf_model.predict(X_test)\n",
        "\n",
        "clf = svm.SVC(kernel='linear') # Linear Kernel\n",
        "#Train the model using the training sets\n",
        "clf.fit(X_train, y_train)\n",
        "#Predict the response for test dataset\n",
        "y_pred_linear = clf.predict(X_test)\n",
        "#Create a svm Classifier\n",
        "clf = svm.SVC(kernel='poly') # Polynomial Kernel\n",
        "clf.fit(X_train, y_train)\n",
        "y_pred_poly = clf.predict(X_test)\n",
        "#Create a svm Classifier\n",
        "clf = svm.SVC(kernel='rbf') # Radial Basis Function Kernel\n",
        "clf.fit(X_train, y_train)\n",
        "y_pred_rbf = clf.predict(X_test)\n",
        "#Create a svm Classifier\n",
        "clf = svm.SVC(kernel='sigmoid') # Sigmoid Kernel\n",
        "clf.fit(X_train, y_train)\n",
        "y_pred_sigmoid = clf.predict(X_test)\n",
        "\n",
        "t = PrettyTable([' ', 'accuracy','precision','recall','f1_score'])\n",
        "#To insert rows\n",
        "t.add_row(['Linear',accuracy_score(y_test, y_pred_linear),precision_score(y_test, y_pred_linear, average='macro',zero_division=1),recall_score(y_test, y_pred_linear, average='macro'),f1_score(y_test, y_pred_linear, average='macro')])\n",
        "t.add_row(['Polynomial',accuracy_score(y_test, y_pred_poly), precision_score(y_test, y_pred_poly, average='macro', zero_division=1),recall_score(y_test, y_pred_poly, average='macro'),f1_score(y_test, y_pred_poly, average='macro')])\n",
        "t.add_row(['Radial Basis Function',accuracy_score(y_test, y_pred_rbf), precision_score(y_test, y_pred_rbf, average='macro', zero_division=1), recall_score(y_test, y_pred_rbf, average='macro'),f1_score(y_test, y_pred_rbf, average='macro')])\n",
        "t.add_row(['Sigmoid', accuracy_score(y_test, y_pred_sigmoid),precision_score(y_test, y_pred_sigmoid, average='macro', zero_division=1),recall_score(y_test, y_pred_sigmoid, average='macro'),f1_score(y_test, y_pred_sigmoid, average='macro')])\n",
        "t.add_row(['KNN',accuracy_score(y_test, y_pred_knn), precision_score(y_test, y_pred_knn, average='macro', zero_division=1),recall_score(y_test, y_pred_knn, average='macro'),f1_score(y_test, y_pred_knn, average='macro')])\n",
        "t.add_row(['Logistic Regression',accuracy_score(y_test, y_pred_logreg), precision_score(y_test, y_pred_logreg, average='macro', zero_division=1), recall_score(y_test, y_pred_logreg, average='macro'),f1_score(y_test, y_pred_logreg, average='macro')])\n",
        "t.add_row(['Decision Tree', accuracy_score(y_test, y_predict_tree),precision_score(y_test, y_predict_tree, average='macro', zero_division=1),recall_score(y_test, y_predict_tree, average='macro'),f1_score(y_test, y_predict_tree, average='macro')])\n",
        "print(t)\n"
      ],
      "metadata": {
        "id": "Rw_-8FIf2KxW",
        "colab": {
          "base_uri": "https://localhost:8080/"
        },
        "outputId": "999293c8-4b52-4d38-b6fe-58c453ca0b78"
      },
      "execution_count": 7,
      "outputs": [
        {
          "output_type": "stream",
          "name": "stdout",
          "text": [
            "+-----------------------+--------------------+--------------------+--------------------+--------------------+\n",
            "|                       |      accuracy      |     precision      |       recall       |      f1_score      |\n",
            "+-----------------------+--------------------+--------------------+--------------------+--------------------+\n",
            "|         Linear        | 0.9996666666666667 | 0.9998330550918197 | 0.9166666666666667 | 0.9544619681537363 |\n",
            "|       Polynomial      | 0.9996666666666667 | 0.9998330550918197 | 0.9166666666666667 | 0.9544619681537363 |\n",
            "| Radial Basis Function | 0.9996666666666667 | 0.9998330550918197 | 0.9166666666666667 | 0.9544619681537363 |\n",
            "|        Sigmoid        | 0.9993333333333333 | 0.916499665998664  | 0.916499665998664  | 0.916499665998664  |\n",
            "|          KNN          | 0.9996666666666667 | 0.9998330550918197 | 0.9166666666666667 | 0.9544619681537363 |\n",
            "|  Logistic Regression  | 0.9996666666666667 | 0.9998330550918197 | 0.9166666666666667 | 0.9544619681537363 |\n",
            "|     Decision Tree     | 0.9986666666666667 | 0.8123328877005347 | 0.9161656646626587 | 0.8568087442126867 |\n",
            "+-----------------------+--------------------+--------------------+--------------------+--------------------+\n"
          ]
        }
      ]
    },
    {
      "cell_type": "markdown",
      "source": [
        "#Finally,\n",
        "Save a copy in your Github. Remember renaming the notebook."
      ],
      "metadata": {
        "id": "Ok7RGkea_b7n"
      }
    }
  ]
}